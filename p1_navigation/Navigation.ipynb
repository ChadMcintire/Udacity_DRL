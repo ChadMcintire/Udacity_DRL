{
 "cells": [
  {
   "cell_type": "markdown",
   "metadata": {},
   "source": [
    "# Navigation\n",
    "\n",
    "---\n",
    "\n",
    "In this notebook, you will learn how to use the Unity ML-Agents environment for the first project of the [Deep Reinforcement Learning Nanodegree](https://www.udacity.com/course/deep-reinforcement-learning-nanodegree--nd893).\n",
    "\n",
    "### 1. Start the Environment\n",
    "\n",
    "We begin by importing some necessary packages.  If the code cell below returns an error, please revisit the project instructions to double-check that you have installed [Unity ML-Agents](https://github.com/Unity-Technologies/ml-agents/blob/master/docs/Installation.md) and [NumPy](http://www.numpy.org/)."
   ]
  },
  {
   "cell_type": "code",
   "execution_count": 1,
   "metadata": {},
   "outputs": [],
   "source": [
    "from unityagents import UnityEnvironment\n",
    "import numpy as np"
   ]
  },
  {
   "cell_type": "markdown",
   "metadata": {},
   "source": [
    "Next, we will start the environment!  **_Before running the code cell below_**, change the `file_name` parameter to match the location of the Unity environment that you downloaded.\n",
    "\n",
    "- **Mac**: `\"path/to/Banana.app\"`\n",
    "- **Windows** (x86): `\"path/to/Banana_Windows_x86/Banana.exe\"`\n",
    "- **Windows** (x86_64): `\"path/to/Banana_Windows_x86_64/Banana.exe\"`\n",
    "- **Linux** (x86): `\"path/to/Banana_Linux/Banana.x86\"`\n",
    "- **Linux** (x86_64): `\"path/to/Banana_Linux/Banana.x86_64\"`\n",
    "- **Linux** (x86, headless): `\"path/to/Banana_Linux_NoVis/Banana.x86\"`\n",
    "- **Linux** (x86_64, headless): `\"path/to/Banana_Linux_NoVis/Banana.x86_64\"`\n",
    "\n",
    "For instance, if you are using a Mac, then you downloaded `Banana.app`.  If this file is in the same folder as the notebook, then the line below should appear as follows:\n",
    "```\n",
    "env = UnityEnvironment(file_name=\"Banana.app\")\n",
    "```"
   ]
  },
  {
   "cell_type": "code",
   "execution_count": 2,
   "metadata": {},
   "outputs": [
    {
     "name": "stderr",
     "output_type": "stream",
     "text": [
      "INFO:unityagents:\n",
      "'Academy' started successfully!\n",
      "Unity Academy name: Academy\n",
      "        Number of Brains: 1\n",
      "        Number of External Brains : 1\n",
      "        Lesson number : 0\n",
      "        Reset Parameters :\n",
      "\t\t\n",
      "Unity brain name: BananaBrain\n",
      "        Number of Visual Observations (per agent): 0\n",
      "        Vector Observation space type: continuous\n",
      "        Vector Observation space size (per agent): 37\n",
      "        Number of stacked Vector Observation: 1\n",
      "        Vector Action space type: discrete\n",
      "        Vector Action space size (per agent): 4\n",
      "        Vector Action descriptions: , , , \n"
     ]
    }
   ],
   "source": [
    "env = UnityEnvironment(file_name=\"./Banana_Linux/Banana.x86_64\")"
   ]
  },
  {
   "cell_type": "markdown",
   "metadata": {},
   "source": [
    "Environments contain **_brains_** which are responsible for deciding the actions of their associated agents. Here we check for the first brain available, and set it as the default brain we will be controlling from Python."
   ]
  },
  {
   "cell_type": "code",
   "execution_count": 3,
   "metadata": {},
   "outputs": [],
   "source": [
    "# get the default brain\n",
    "brain_name = env.brain_names[0]\n",
    "brain = env.brains[brain_name]"
   ]
  },
  {
   "cell_type": "markdown",
   "metadata": {},
   "source": [
    "### 2. Examine the State and Action Spaces\n",
    "\n",
    "The simulation contains a single agent that navigates a large environment.  At each time step, it has four actions at its disposal:\n",
    "- `0` - walk forward \n",
    "- `1` - walk backward\n",
    "- `2` - turn left\n",
    "- `3` - turn right\n",
    "\n",
    "The state space has `37` dimensions and contains the agent's velocity, along with ray-based perception of objects around agent's forward direction.  A reward of `+1` is provided for collecting a yellow banana, and a reward of `-1` is provided for collecting a blue banana. \n",
    "\n",
    "Run the code cell below to print some information about the environment."
   ]
  },
  {
   "cell_type": "code",
   "execution_count": 4,
   "metadata": {},
   "outputs": [
    {
     "name": "stdout",
     "output_type": "stream",
     "text": [
      "Number of agents: 1\n",
      "Number of actions: 4\n",
      "States look like: [1.         0.         0.         0.         0.84408134 0.\n",
      " 0.         1.         0.         0.0748472  0.         1.\n",
      " 0.         0.         0.25755    1.         0.         0.\n",
      " 0.         0.74177343 0.         1.         0.         0.\n",
      " 0.25854847 0.         0.         1.         0.         0.09355672\n",
      " 0.         1.         0.         0.         0.31969345 0.\n",
      " 0.        ]\n",
      "States have length: 37\n"
     ]
    }
   ],
   "source": [
    "# reset the environment\n",
    "env_info = env.reset(train_mode=True)[brain_name]\n",
    "\n",
    "# number of agents in the environment\n",
    "print('Number of agents:', len(env_info.agents))\n",
    "\n",
    "# number of actions\n",
    "action_size = brain.vector_action_space_size\n",
    "print('Number of actions:', action_size)\n",
    "\n",
    "# examine the state space \n",
    "state = env_info.vector_observations[0]\n",
    "print('States look like:', state)\n",
    "state_size = len(state)\n",
    "print('States have length:', state_size)"
   ]
  },
  {
   "cell_type": "markdown",
   "metadata": {},
   "source": [
    "### 3. Take Random Actions in the Environment\n",
    "\n",
    "In the next code cell, you will learn how to use the Python API to control the agent and receive feedback from the environment.\n",
    "\n",
    "Once this cell is executed, you will watch the agent's performance, if it selects an action (uniformly) at random with each time step.  A window should pop up that allows you to observe the agent, as it moves through the environment.  \n",
    "\n",
    "Of course, as part of the project, you'll have to change the code so that the agent is able to use its experience to gradually choose better actions when interacting with the environment!"
   ]
  },
  {
   "cell_type": "code",
   "execution_count": null,
   "metadata": {},
   "outputs": [],
   "source": [
    "import time\n",
    "env_info = env.reset(train_mode=True)[brain_name] # reset the environment\n",
    "state = env_info.vector_observations[0]            # get the current state\n",
    "score = 0                                          # initialize the score\n",
    "while True:\n",
    "    action = np.random.randint(action_size)        # select an action\n",
    "    env_info = env.step(action)[brain_name]        # send the action to the environment\n",
    "    next_state = env_info.vector_observations[0]   # get the next state\n",
    "    reward = env_info.rewards[0]                   # get the reward\n",
    "    done = env_info.local_done[0]                  # see if episode has finished\n",
    "    score += reward                                # update the score\n",
    "    state = next_state                             # roll over the state to next time step\n",
    "    time.sleep(.25)\n",
    "    print(\"score = \", score, \"Step = \", )\n",
    "    if done:                                       # exit loop if episode finished\n",
    "        break\n",
    "    \n",
    "print(\"Score: {}\".format(score))"
   ]
  },
  {
   "cell_type": "markdown",
   "metadata": {},
   "source": [
    "When finished, you can close the environment."
   ]
  },
  {
   "cell_type": "code",
   "execution_count": null,
   "metadata": {},
   "outputs": [],
   "source": [
    "env.close()"
   ]
  },
  {
   "cell_type": "markdown",
   "metadata": {},
   "source": [
    "### 4. It's Your Turn!\n",
    "\n",
    "Now it's your turn to train your own agent to solve the environment!  When training the environment, set `train_mode=True`, so that the line for resetting the environment looks like the following:\n",
    "```python\n",
    "env_info = env.reset(train_mode=True)[brain_name]\n",
    "```"
   ]
  },
  {
   "cell_type": "code",
   "execution_count": 21,
   "metadata": {},
   "outputs": [
    {
     "ename": "TypeError",
     "evalue": "object of type 'int' has no len()",
     "output_type": "error",
     "traceback": [
      "\u001b[0;31m---------------------------------------------------------------------------\u001b[0m",
      "\u001b[0;31mTypeError\u001b[0m                                 Traceback (most recent call last)",
      "\u001b[0;32m<ipython-input-21-07577f31d79f>\u001b[0m in \u001b[0;36m<module>\u001b[0;34m\u001b[0m\n\u001b[1;32m      5\u001b[0m \u001b[0;34m\u001b[0m\u001b[0m\n\u001b[1;32m      6\u001b[0m \u001b[0;32mwhile\u001b[0m \u001b[0;32mTrue\u001b[0m\u001b[0;34m:\u001b[0m\u001b[0;34m\u001b[0m\u001b[0;34m\u001b[0m\u001b[0m\n\u001b[0;32m----> 7\u001b[0;31m     \u001b[0mprint\u001b[0m\u001b[0;34m(\u001b[0m\u001b[0;34m\"State = \"\u001b[0m\u001b[0;34m,\u001b[0m \u001b[0mlen\u001b[0m\u001b[0;34m(\u001b[0m\u001b[0maction\u001b[0m\u001b[0;34m)\u001b[0m\u001b[0;34m)\u001b[0m\u001b[0;34m\u001b[0m\u001b[0;34m\u001b[0m\u001b[0m\n\u001b[0m\u001b[1;32m      8\u001b[0m     \u001b[0maction\u001b[0m \u001b[0;34m=\u001b[0m \u001b[0mnp\u001b[0m\u001b[0;34m.\u001b[0m\u001b[0mrandom\u001b[0m\u001b[0;34m.\u001b[0m\u001b[0mrandint\u001b[0m\u001b[0;34m(\u001b[0m\u001b[0maction_size\u001b[0m\u001b[0;34m)\u001b[0m        \u001b[0;31m# select an action\u001b[0m\u001b[0;34m\u001b[0m\u001b[0;34m\u001b[0m\u001b[0m\n\u001b[1;32m      9\u001b[0m     \u001b[0menv_info\u001b[0m \u001b[0;34m=\u001b[0m \u001b[0menv\u001b[0m\u001b[0;34m.\u001b[0m\u001b[0mstep\u001b[0m\u001b[0;34m(\u001b[0m\u001b[0maction\u001b[0m\u001b[0;34m)\u001b[0m\u001b[0;34m[\u001b[0m\u001b[0mbrain_name\u001b[0m\u001b[0;34m]\u001b[0m        \u001b[0;31m# send the action to the environment\u001b[0m\u001b[0;34m\u001b[0m\u001b[0;34m\u001b[0m\u001b[0m\n",
      "\u001b[0;31mTypeError\u001b[0m: object of type 'int' has no len()"
     ]
    }
   ],
   "source": [
    "import time\n",
    "env_info = env.reset(train_mode=True)[brain_name] # reset the environment\n",
    "state = env_info.vector_observations[0]            # get the current state\n",
    "score = 0                                          # initialize the score\n",
    "\n",
    "while True:\n",
    "    print(\"State = \", len(action))\n",
    "    action = np.random.randint(action_size)        # select an action\n",
    "    env_info = env.step(action)[brain_name]        # send the action to the environment\n",
    "    next_state = env_info.vector_observations[0]   # get the next state\n",
    "    reward = env_info.rewards[0]                   # get the reward\n",
    "    done = env_info.local_done[0]                  # see if episode has finished\n",
    "    score += reward                                # update the score\n",
    "    state = next_state                             # roll over the state to next time step\n",
    "    time.sleep(.15)\n",
    "    print(\"score = \", score, \"Step = \" )\n",
    "    if done:                                       # exit loop if episode finished\n",
    "        break\n",
    "    \n",
    "print(\"Score: {}\".format(score))"
   ]
  },
  {
   "cell_type": "code",
   "execution_count": 1,
   "metadata": {},
   "outputs": [
    {
     "name": "stderr",
     "output_type": "stream",
     "text": [
      "INFO:unityagents:\n",
      "'Academy' started successfully!\n",
      "Unity Academy name: Academy\n",
      "        Number of Brains: 1\n",
      "        Number of External Brains : 1\n",
      "        Lesson number : 0\n",
      "        Reset Parameters :\n",
      "\t\t\n",
      "Unity brain name: BananaBrain\n",
      "        Number of Visual Observations (per agent): 0\n",
      "        Vector Observation space type: continuous\n",
      "        Vector Observation space size (per agent): 37\n",
      "        Number of stacked Vector Observation: 1\n",
      "        Vector Action space type: discrete\n",
      "        Vector Action space size (per agent): 4\n",
      "        Vector Action descriptions: , , , \n"
     ]
    }
   ],
   "source": [
    "from unityagents import UnityEnvironment\n",
    "import numpy as np\n",
    "env = UnityEnvironment(file_name=\"./Banana_Linux/Banana.x86_64\")"
   ]
  },
  {
   "cell_type": "code",
   "execution_count": 2,
   "metadata": {},
   "outputs": [],
   "source": [
    "# get the default brain\n",
    "brain_name = env.brain_names[0]\n",
    "\n",
    "# Assign the default brain as the brain to be controlled\n",
    "brain = env.brains[brain_name]"
   ]
  },
  {
   "cell_type": "code",
   "execution_count": 3,
   "metadata": {},
   "outputs": [],
   "source": [
    "action_size = brain.vector_action_space_size\n",
    "\n",
    "state_size = brain.vector_observation_space_size"
   ]
  },
  {
   "cell_type": "code",
   "execution_count": 4,
   "metadata": {},
   "outputs": [],
   "source": [
    "from exercise.dqn_agent import Agent\n",
    "agent = Agent(state_size=state_size, action_size=action_size, seed=0)"
   ]
  },
  {
   "cell_type": "code",
   "execution_count": 5,
   "metadata": {},
   "outputs": [
    {
     "name": "stdout",
     "output_type": "stream",
     "text": [
      "Episode 5\tAverage Score: -0.20\n",
      "Episode 10\tAverage Score: -0.30\n",
      "Episode 15\tAverage Score: -0.27\n",
      "Episode 20\tAverage Score: 0.05\n",
      "Episode 25\tAverage Score: 0.00\n",
      "Episode 30\tAverage Score: 0.03\n",
      "Episode 35\tAverage Score: 0.06\n",
      "Episode 40\tAverage Score: 0.05\n",
      "Episode 45\tAverage Score: 0.13\n",
      "Episode 50\tAverage Score: 0.18\n",
      "Episode 55\tAverage Score: 0.29\n",
      "Episode 60\tAverage Score: 0.45\n",
      "Episode 65\tAverage Score: 0.55\n",
      "Episode 70\tAverage Score: 0.67\n",
      "Episode 75\tAverage Score: 0.84\n",
      "Episode 80\tAverage Score: 0.86\n",
      "Episode 85\tAverage Score: 0.92\n",
      "Episode 90\tAverage Score: 0.97\n",
      "Episode 95\tAverage Score: 0.94\n",
      "Episode 100\tAverage Score: 1.09\n",
      "Episode 105\tAverage Score: 1.11\n",
      "Episode 110\tAverage Score: 1.27\n",
      "Episode 115\tAverage Score: 1.47\n",
      "Episode 120\tAverage Score: 1.47\n",
      "Episode 125\tAverage Score: 1.62\n",
      "Episode 130\tAverage Score: 1.90\n",
      "Episode 135\tAverage Score: 2.01\n",
      "Episode 140\tAverage Score: 2.14\n",
      "Episode 145\tAverage Score: 2.28\n",
      "Episode 150\tAverage Score: 2.38\n",
      "Episode 155\tAverage Score: 2.44\n",
      "Episode 160\tAverage Score: 2.56\n",
      "Episode 165\tAverage Score: 2.68\n",
      "Episode 170\tAverage Score: 2.84\n",
      "Episode 175\tAverage Score: 2.83\n",
      "Episode 180\tAverage Score: 2.97\n",
      "Episode 185\tAverage Score: 3.07\n",
      "Episode 190\tAverage Score: 3.13\n",
      "Episode 195\tAverage Score: 3.36\n",
      "Episode 200\tAverage Score: 3.47\n",
      "Episode 205\tAverage Score: 3.87\n",
      "Episode 210\tAverage Score: 3.87\n",
      "Episode 215\tAverage Score: 3.98\n",
      "Episode 220\tAverage Score: 4.32\n",
      "Episode 225\tAverage Score: 4.56\n",
      "Episode 230\tAverage Score: 4.54\n",
      "Episode 235\tAverage Score: 4.83\n",
      "Episode 240\tAverage Score: 5.05\n",
      "Episode 245\tAverage Score: 5.28\n",
      "Episode 250\tAverage Score: 5.42\n",
      "Episode 255\tAverage Score: 5.61\n",
      "Episode 260\tAverage Score: 5.74\n",
      "Episode 265\tAverage Score: 6.09\n",
      "Episode 270\tAverage Score: 6.15\n",
      "Episode 275\tAverage Score: 6.37\n",
      "Episode 280\tAverage Score: 6.53\n",
      "Episode 285\tAverage Score: 6.89\n",
      "Episode 290\tAverage Score: 7.16\n",
      "Episode 295\tAverage Score: 7.51\n",
      "Episode 300\tAverage Score: 7.77\n",
      "Episode 305\tAverage Score: 7.80\n",
      "Episode 310\tAverage Score: 8.20\n",
      "Episode 315\tAverage Score: 8.32\n",
      "Episode 320\tAverage Score: 8.59\n",
      "Episode 325\tAverage Score: 8.81\n",
      "Episode 330\tAverage Score: 9.08\n",
      "Episode 335\tAverage Score: 9.20\n",
      "Episode 340\tAverage Score: 9.42\n",
      "Episode 345\tAverage Score: 9.42\n",
      "Episode 350\tAverage Score: 9.83\n",
      "Episode 355\tAverage Score: 10.25\n",
      "Episode 360\tAverage Score: 10.61\n",
      "Episode 365\tAverage Score: 10.70\n",
      "Episode 370\tAverage Score: 11.02\n",
      "Episode 375\tAverage Score: 11.29\n",
      "Episode 380\tAverage Score: 11.61\n",
      "Episode 385\tAverage Score: 11.80\n",
      "Episode 390\tAverage Score: 12.12\n",
      "Episode 395\tAverage Score: 12.22\n",
      "Episode 400\tAverage Score: 12.32\n",
      "Episode 405\tAverage Score: 12.56\n",
      "Episode 410\tAverage Score: 12.92\n",
      "Episode 415\tAverage Score: 13.11\n",
      "Episode 420\tAverage Score: 13.12\n",
      "Episode 425\tAverage Score: 13.21\n",
      "Episode 430\tAverage Score: 13.37\n",
      "Episode 435\tAverage Score: 13.55\n",
      "Episode 440\tAverage Score: 13.65\n",
      "Episode 445\tAverage Score: 13.85\n",
      "Episode 450\tAverage Score: 13.76\n",
      "Episode 455\tAverage Score: 13.83\n",
      "Episode 460\tAverage Score: 13.87\n",
      "Episode 465\tAverage Score: 13.80\n",
      "Episode 470\tAverage Score: 14.01\n",
      "Episode 475\tAverage Score: 14.11\n",
      "Episode 480\tAverage Score: 14.27\n",
      "Episode 485\tAverage Score: 14.34\n",
      "Episode 490\tAverage Score: 14.41\n",
      "Episode 495\tAverage Score: 14.59\n",
      "Episode 500\tAverage Score: 14.83\n",
      "Episode 505\tAverage Score: 15.01\n",
      "Episode 510\tAverage Score: 14.92\n",
      "Episode 515\tAverage Score: 15.14\n",
      "Episode 520\tAverage Score: 15.29\n",
      "Episode 525\tAverage Score: 15.39\n",
      "Episode 530\tAverage Score: 15.54\n",
      "Episode 535\tAverage Score: 15.51\n",
      "Episode 540\tAverage Score: 15.70\n",
      "Episode 545\tAverage Score: 15.72\n",
      "Episode 550\tAverage Score: 16.04\n",
      "Episode 555\tAverage Score: 15.96\n",
      "Episode 560\tAverage Score: 16.01\n",
      "Episode 565\tAverage Score: 16.09\n",
      "Episode 570\tAverage Score: 15.99\n",
      "Episode 575\tAverage Score: 16.11\n",
      "Episode 580\tAverage Score: 16.04\n",
      "Episode 585\tAverage Score: 15.93\n",
      "Episode 590\tAverage Score: 15.91\n",
      "Episode 595\tAverage Score: 15.84\n",
      "Episode 600\tAverage Score: 15.79\n",
      "Episode 605\tAverage Score: 15.74\n",
      "Episode 610\tAverage Score: 15.70\n",
      "Episode 615\tAverage Score: 15.47\n",
      "Episode 620\tAverage Score: 15.33\n",
      "Episode 625\tAverage Score: 15.33\n",
      "Episode 630\tAverage Score: 15.09\n",
      "Episode 635\tAverage Score: 15.29\n",
      "Episode 640\tAverage Score: 15.23\n",
      "Episode 645\tAverage Score: 15.16\n",
      "Episode 650\tAverage Score: 14.94\n",
      "Episode 655\tAverage Score: 14.99\n",
      "Episode 660\tAverage Score: 14.95\n",
      "Episode 665\tAverage Score: 15.02\n",
      "Episode 670\tAverage Score: 15.18\n",
      "Episode 675\tAverage Score: 15.06\n",
      "Episode 680\tAverage Score: 15.04\n",
      "Episode 685\tAverage Score: 14.92\n",
      "Episode 690\tAverage Score: 14.91\n",
      "Episode 695\tAverage Score: 14.94\n",
      "Episode 700\tAverage Score: 14.84\n",
      "Episode 705\tAverage Score: 14.87\n",
      "Episode 710\tAverage Score: 14.72\n",
      "Episode 715\tAverage Score: 14.62\n",
      "Episode 720\tAverage Score: 14.64\n",
      "Episode 725\tAverage Score: 14.63\n",
      "Episode 730\tAverage Score: 14.99\n",
      "Episode 735\tAverage Score: 14.74\n",
      "Episode 740\tAverage Score: 14.82\n",
      "Episode 745\tAverage Score: 15.14\n",
      "Episode 750\tAverage Score: 15.22\n",
      "Episode 755\tAverage Score: 15.29\n",
      "Episode 760\tAverage Score: 15.35\n",
      "Episode 765\tAverage Score: 15.48\n",
      "Episode 770\tAverage Score: 15.43\n",
      "Episode 775\tAverage Score: 15.43\n",
      "Episode 780\tAverage Score: 15.49\n",
      "Episode 785\tAverage Score: 15.78\n",
      "Episode 790\tAverage Score: 15.96\n",
      "Episode 795\tAverage Score: 15.96\n",
      "Episode 800\tAverage Score: 16.00\n",
      "Episode 805\tAverage Score: 16.10\n",
      "Episode 810\tAverage Score: 16.24\n",
      "Episode 815\tAverage Score: 16.58\n",
      "Episode 820\tAverage Score: 16.66\n",
      "Episode 825\tAverage Score: 16.68\n",
      "Episode 830\tAverage Score: 16.43\n",
      "Episode 835\tAverage Score: 16.62\n",
      "Episode 840\tAverage Score: 16.58\n",
      "Episode 845\tAverage Score: 16.52\n",
      "Episode 850\tAverage Score: 16.44\n",
      "Episode 855\tAverage Score: 16.46\n",
      "Episode 860\tAverage Score: 16.33\n",
      "Episode 865\tAverage Score: 16.39\n",
      "Episode 870\tAverage Score: 16.30\n",
      "Episode 875\tAverage Score: 16.49\n",
      "Episode 880\tAverage Score: 16.49\n",
      "Episode 885\tAverage Score: 16.45\n",
      "Episode 890\tAverage Score: 16.33\n",
      "Episode 895\tAverage Score: 16.36\n",
      "Episode 900\tAverage Score: 16.35\n",
      "Episode 905\tAverage Score: 16.10\n",
      "Episode 910\tAverage Score: 16.10\n",
      "Episode 915\tAverage Score: 16.02\n",
      "Episode 920\tAverage Score: 16.15\n",
      "Episode 925\tAverage Score: 16.20\n",
      "Episode 930\tAverage Score: 16.25\n",
      "Episode 935\tAverage Score: 16.24\n",
      "Episode 940\tAverage Score: 16.28\n",
      "Episode 945\tAverage Score: 16.36\n",
      "Episode 950\tAverage Score: 16.40\n",
      "Episode 955\tAverage Score: 16.48\n",
      "Episode 960\tAverage Score: 16.60\n",
      "Episode 965\tAverage Score: 16.58\n",
      "Episode 970\tAverage Score: 16.71\n",
      "Episode 975\tAverage Score: 16.56\n",
      "Episode 980\tAverage Score: 16.57\n",
      "Episode 985\tAverage Score: 16.71\n",
      "Episode 990\tAverage Score: 16.71\n",
      "Episode 995\tAverage Score: 16.68\n",
      "Episode 1000\tAverage Score: 16.67\n",
      "Episode 1005\tAverage Score: 16.84\n",
      "Episode 1010\tAverage Score: 16.88\n",
      "\n",
      "Environment solved in 1012 episodes!\tAverage Score: 17.02\n"
     ]
    },
    {
     "data": {
      "image/png": "[encoded data removed]",
      "text/plain": [
       "<Figure size 432x288 with 1 Axes>"
      ]
     },
     "metadata": {
      "needs_background": "light"
     },
     "output_type": "display_data"
    }
   ],
   "source": [
    "from collections import namedtuple, deque\n",
    "import time\n",
    "import torch\n",
    "from collections import deque\n",
    "import matplotlib.pyplot as plt\n",
    "%matplotlib inline\n",
    "def dqn(n_episodes=2000, max_t=1000, eps_start=1.0, eps_end=0.01, eps_decay=0.95, score_window_len=100):\n",
    "    \"\"\"Deep Q-Learning.\n",
    "    \n",
    "    Params\n",
    "    ======\n",
    "        n_episodes (int): maximum number of training episodes\n",
    "        max_t (int): maximum number of timesteps per episode\n",
    "        eps_start (float): starting value of epsilon, for epsilon-greedy action selection\n",
    "        eps_end (float): minimum value of epsilon\n",
    "        eps_decay (float): multiplicative factor (per episode) for decreasing epsilon\n",
    "    \"\"\"\n",
    "                                       # initialize the score\n",
    "    scores = []                        # list containing scores from each episode\n",
    "    scores_window = deque(maxlen=score_window_len)  # last 100 scores\n",
    "    eps = eps_start                    # initialize epsilon\n",
    "    for i_episode in range(1, n_episodes+1):\n",
    "        #print(\"Episode number: \", i_episode)\n",
    "        env_info = env.reset(train_mode=True)[brain_name] # reset the environment\n",
    "        state = env_info.vector_observations[0]            # get the current state\n",
    "        score = 0     \n",
    "        while True:\n",
    "            #time.sleep(.5)\n",
    "            action = agent.act(state, eps)\n",
    "            env_info = env.step(action)[brain_name]        # send the action to the environment\n",
    "            next_state = env_info.vector_observations[0]   # get the next state\n",
    "            reward = env_info.rewards[0]                   # get the reward\n",
    "            done = env_info.local_done[0]                  # see if episode has finished\n",
    "            #next_state, reward, done, _ = env.step(action)\n",
    "            agent.step(state, action, reward, next_state, done)\n",
    "            state = next_state\n",
    "            score += reward\n",
    "            if done:\n",
    "                break \n",
    "        scores_window.append(score)       # save most recent score\n",
    "        scores.append(score)              # save most recent score\n",
    "        eps = max(eps_end, eps_decay*eps) # decrease epsilon\n",
    "        #print('\\rEpisode {}\\tAverage Score: {:.2f}'.format(i_episode, np.mean(scores_window)), end=\"\")\n",
    "        if i_episode % 5 == 0:\n",
    "            print('\\rEpisode {}\\tAverage Score: {:.2f}'.format(i_episode, np.mean(scores_window)))\n",
    "        if np.mean(scores_window)>=17.0:\n",
    "            print('\\nEnvironment solved in {:d} episodes!\\tAverage Score: {:.2f}'.format(i_episode, np.mean(scores_window)))\n",
    "            torch.save(agent.qnetwork_local.state_dict(), 'checkpoint1.pth')\n",
    "            break\n",
    "    return scores\n",
    "\n",
    "scores = dqn()\n",
    "\n",
    "# plot the scores\n",
    "fig = plt.figure()\n",
    "ax = fig.add_subplot(111)\n",
    "plt.plot(np.arange(len(scores)), scores)\n",
    "plt.ylabel('Score')\n",
    "plt.xlabel('Episode #')\n",
    "plt.show()\n",
    "\n",
    "\n",
    "    \n",
    "\n"
   ]
  },
  {
   "cell_type": "code",
   "execution_count": 1,
   "metadata": {},
   "outputs": [
    {
     "name": "stderr",
     "output_type": "stream",
     "text": [
      "INFO:unityagents:\n",
      "'Academy' started successfully!\n",
      "Unity Academy name: Academy\n",
      "        Number of Brains: 1\n",
      "        Number of External Brains : 1\n",
      "        Lesson number : 0\n",
      "        Reset Parameters :\n",
      "\t\t\n",
      "Unity brain name: BananaBrain\n",
      "        Number of Visual Observations (per agent): 0\n",
      "        Vector Observation space type: continuous\n",
      "        Vector Observation space size (per agent): 37\n",
      "        Number of stacked Vector Observation: 1\n",
      "        Vector Action space type: discrete\n",
      "        Vector Action space size (per agent): 4\n",
      "        Vector Action descriptions: , , , \n"
     ]
    }
   ],
   "source": [
    "from unityagents import UnityEnvironment\n",
    "import numpy as np\n",
    "env = UnityEnvironment(file_name=\"./Banana_Linux/Banana.x86_64\")\n"
   ]
  },
  {
   "cell_type": "code",
   "execution_count": 6,
   "metadata": {},
   "outputs": [],
   "source": [
    "# get the default brain\n",
    "brain_name = env.brain_names[0]\n",
    "\n",
    "# Assign the default brain as the brain to be controlled\n",
    "brain = env.brains[brain_name]\n",
    "\n",
    "action_size = brain.vector_action_space_size\n",
    "\n",
    "state_size = brain.vector_observation_space_size\n",
    "\n",
    "\n",
    "from exercise.dqn_agent import Agent\n",
    "import torch\n",
    "import time\n",
    "agent = Agent(state_size=state_size, action_size=action_size, seed=0)\n",
    "agent.qnetwork_local.load_state_dict(torch.load('checkpoint1.pth'))"
   ]
  },
  {
   "cell_type": "code",
   "execution_count": 8,
   "metadata": {},
   "outputs": [
    {
     "name": "stdout",
     "output_type": "stream",
     "text": [
      "Score =  19.0\n",
      "Score =  15.0\n",
      "Score =  16.0\n",
      "Score =  12.0\n",
      "Score =  20.0\n"
     ]
    }
   ],
   "source": [
    "# load the weights from file\n",
    "\n",
    "eps = 1.0\n",
    "\n",
    "for i in range(5):\n",
    "    env_info = env.reset(train_mode=False)[brain_name] # reset the environment\n",
    "    state = env_info.vector_observations[0]            # get the current state\n",
    "    score = 0 \n",
    "    while True:\n",
    "        #time.sleep(.5)\n",
    "        action = agent.act(state)\n",
    "        \n",
    "        env_info = env.step(action)[brain_name]        # send the action to the environment\n",
    "        \n",
    "        next_state = env_info.vector_observations[0]   # get the next state\n",
    "        reward = env_info.rewards[0]                   # get the reward\n",
    "        done = env_info.local_done[0]                  # see if episode has finished\n",
    "\n",
    "        state = next_state\n",
    "        score += reward\n",
    "        if done:\n",
    "            print(\"Score = \", score)\n",
    "            break \n",
    "            \n",
    "#env.close()"
   ]
  },
  {
   "cell_type": "code",
   "execution_count": 27,
   "metadata": {},
   "outputs": [],
   "source": [
    "env.close()"
   ]
  },
  {
   "cell_type": "code",
   "execution_count": null,
   "metadata": {},
   "outputs": [],
   "source": []
  }
 ],
 "metadata": {
  "kernelspec": {
   "display_name": "drlnd",
   "language": "python",
   "name": "deep-reinforcement-learning"
  },
  "language_info": {
   "codemirror_mode": {
    "name": "ipython",
    "version": 3
   },
   "file_extension": ".py",
   "mimetype": "text/x-python",
   "name": "python",
   "nbconvert_exporter": "python",
   "pygments_lexer": "ipython3",
   "version": "3.6.9"
  }
 },
 "nbformat": 4,
 "nbformat_minor": 2
}
